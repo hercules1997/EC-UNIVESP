{
 "cells": [
  {
   "cell_type": "code",
   "execution_count": 15,
   "metadata": {},
   "outputs": [
    {
     "name": "stdout",
     "output_type": "stream",
     "text": [
      "A temperatura convertida é: 82.4 Fahrenheit\n"
     ]
    }
   ],
   "source": [
    "\n",
    "#Ler uma temperatura em graus Celsius e apresentá-la convertida\n",
    "#em graus Fahrenheit. A fórmula de conversão é F ← C * 9 / 5 + 32,\n",
    "#sendo F a temperatura em Fahrenheit e C a temperatura em Celsius.\n",
    "\n",
    "\n",
    "C = float(input(\"Qual é a temperatura °C?\"))\n",
    "\n",
    "F = ((C * 9) / 5) + 32 \n",
    "\n",
    "print(\"A temperatura convertida é:\", F, \"Fahrenheit\" )\n"
   ]
  }
 ],
 "metadata": {
  "kernelspec": {
   "display_name": "Python 3",
   "language": "python",
   "name": "python3"
  },
  "language_info": {
   "codemirror_mode": {
    "name": "ipython",
    "version": 3
   },
   "file_extension": ".py",
   "mimetype": "text/x-python",
   "name": "python",
   "nbconvert_exporter": "python",
   "pygments_lexer": "ipython3",
   "version": "3.11.4"
  }
 },
 "nbformat": 4,
 "nbformat_minor": 2
}
