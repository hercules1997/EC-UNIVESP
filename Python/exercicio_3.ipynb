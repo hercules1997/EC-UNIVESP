{
 "cells": [
  {
   "cell_type": "code",
   "execution_count": 4,
   "metadata": {},
   "outputs": [
    {
     "name": "stdout",
     "output_type": "stream",
     "text": [
      "Aluno reprovado com média de: 2.75\n"
     ]
    }
   ],
   "source": [
    "\n",
    "# Realizar a leitura dos valores de quatro notas escolares bimestrais de um aluno\n",
    "# representadas pelas variáveis N1, N2, N3 e N4. Calcular a média aritmética\n",
    "# (variável MD) desse aluno e apresentar a mensagem “Aluno Aprovado com média” se a\n",
    "# média obtida for maior ou igual a 5; caso contrário, apresentar a mensagem “Aluno\n",
    "# Reprovado com média”. Informar também, após a apresentação das mensagens, o valor\n",
    "# da média obtida pelo aluno.\n",
    "\n",
    "n1 = float(input(\"Digite a primeira nota:\"))\n",
    "n2 = float(input(\"Digite a segunda nota:\"))\n",
    "n3 = float(input(\"Digite a terceira nota:\"))\n",
    "n4 = float(input(\"Digite a quarrta nota:\"))\n",
    "\n",
    "media = (n1 + n2 + n3 + n4) / 4\n",
    "\n",
    "\n",
    "if media >= 5 :\n",
    "    print(\"Aluno aprovado com média de:\", media)\n",
    "if media <= 5 :\n",
    "    print(\"Aluno reprovado com média de:\", media)\n",
    "\n"
   ]
  }
 ],
 "metadata": {
  "kernelspec": {
   "display_name": "Python 3",
   "language": "python",
   "name": "python3"
  },
  "language_info": {
   "codemirror_mode": {
    "name": "ipython",
    "version": 3
   },
   "file_extension": ".py",
   "mimetype": "text/x-python",
   "name": "python",
   "nbconvert_exporter": "python",
   "pygments_lexer": "ipython3",
   "version": "3.11.4"
  }
 },
 "nbformat": 4,
 "nbformat_minor": 2
}
