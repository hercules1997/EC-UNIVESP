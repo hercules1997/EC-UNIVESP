{
 "cells": [
  {
   "cell_type": "code",
   "execution_count": 20,
   "metadata": {},
   "outputs": [
    {
     "name": "stdout",
     "output_type": "stream",
     "text": [
      "A soma dos cem primeiros números naturais é: 5050\n"
     ]
    }
   ],
   "source": [
    "# Desenvolver os diagramas de blocos e as codificações em português estruturado usando\n",
    "# laço incondicional (para) do seguinte problema: Construir um programa que apresente a\n",
    "# soma dos cem primeiros números naturais (1 + 2 + 3 +...+ 98 + 99 + 100).\n",
    "\n",
    "# Inicio\n",
    "\n",
    "# Variável soma é inicializada como 0\n",
    "\n",
    "# Para cada número de 1 até 100 faça:\n",
    "    # soma = soma + número\n",
    "\n",
    "# Apresentar soma\n",
    "\n",
    "#Fim\n",
    "\n",
    "\n",
    "sum = 0\n",
    "\n",
    "for number in range(1, 101):\n",
    "    sum = sum + number\n",
    "\n",
    "print(\"A soma dos cem primeiros números naturais é:\", sum)"
   ]
  }
 ],
 "metadata": {
  "kernelspec": {
   "display_name": "Python 3",
   "language": "python",
   "name": "python3"
  },
  "language_info": {
   "codemirror_mode": {
    "name": "ipython",
    "version": 3
   },
   "file_extension": ".py",
   "mimetype": "text/x-python",
   "name": "python",
   "nbconvert_exporter": "python",
   "pygments_lexer": "ipython3",
   "version": "3.11.4"
  }
 },
 "nbformat": 4,
 "nbformat_minor": 2
}
