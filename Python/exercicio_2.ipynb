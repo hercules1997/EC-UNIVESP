{
 "cells": [
  {
   "cell_type": "code",
   "execution_count": 47,
   "metadata": {},
   "outputs": [
    {
     "name": "stdout",
     "output_type": "stream",
     "text": [
      "['bola', 'taco']\n"
     ]
    }
   ],
   "source": [
    "\n",
    "# Primeiro, execute a atribuição palavras =\n",
    "# ['taco', 'bola', 'celeiro', 'cesta', 'peteca']\n",
    "# Agora, escreva duas expressões Python que são avaliadas, respectivamente, como a\n",
    "# primeira e a última palavras em palavras, na ordem do dicionário.\n",
    "\n",
    "\n",
    "palavras = ['taco', 'bola', 'celeiro', 'cesta', 'peteca']\n",
    "\n",
    "\n",
    "palavras_ordenadas = sorted(palavras)\n",
    "\n",
    "pegando_primeira_palavra = palavras_ordenadas[0]\n",
    "pegando_ultima_palavra = palavras_ordenadas[-1]\n",
    "\n",
    "resultado = [pegando_primeira_palavra, pegando_ultima_palavra]\n",
    "\n",
    "print(resultado)\n",
    "\n",
    "# Saída ['bola', 'taco']"
   ]
  }
 ],
 "metadata": {
  "kernelspec": {
   "display_name": "Python 3",
   "language": "python",
   "name": "python3"
  },
  "language_info": {
   "codemirror_mode": {
    "name": "ipython",
    "version": 3
   },
   "file_extension": ".py",
   "mimetype": "text/x-python",
   "name": "python",
   "nbconvert_exporter": "python",
   "pygments_lexer": "ipython3",
   "version": "3.11.4"
  }
 },
 "nbformat": 4,
 "nbformat_minor": 2
}
